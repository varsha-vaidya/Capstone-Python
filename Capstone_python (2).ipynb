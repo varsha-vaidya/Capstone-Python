{
 "cells": [
  {
   "cell_type": "code",
   "execution_count": 1,
   "id": "a97a9696-322c-421b-93f9-5f3613898b6d",
   "metadata": {},
   "outputs": [
    {
     "name": "stdout",
     "output_type": "stream",
     "text": [
      "      ID     Project       Cost    Status\n",
      "0   A001   Project 1  1002000.0  Finished\n",
      "1   A002   Project 2  2000000.0   Ongoing\n",
      "2   A003   Project 3  4500000.0  Finished\n",
      "3   A004   Project 4  5500000.0   Ongoing\n",
      "4   A005   Project 5        NaN  Finished\n",
      "5   A002   Project 6   680000.0    Failed\n",
      "6   A005   Project 7   400000.0  Finished\n",
      "7   A003   Project 8   350000.0    Failed\n",
      "8   A001   Project 9        NaN   Ongoing\n",
      "9   A003  Project 10   300000.0  Finished\n",
      "10  A001  Project 11  2000000.0    Failed\n",
      "11  A004  Project 12  1000000.0   Ongoing\n",
      "12  A004  Project 13  3000000.0  Finished\n",
      "13  A005  Project 14   200000.0  Finished\n"
     ]
    }
   ],
   "source": [
    "#Task 1 :\n",
    "# Creating Project Dataframe and saving it as a .csv file\n",
    "\n",
    "# Importing numpy and pandas libraries\n",
    "import pandas as pd\n",
    "import numpy as np\n",
    "\n",
    "# Creating a dictionary structure named project data with keys representing column names containing ID, Project, Cost and Status and values as lists.\n",
    "project_data = {'ID': ['A001' , 'A002', 'A003', 'A004', 'A005', 'A002', 'A005', 'A003', 'A001', 'A003', 'A001', 'A004', 'A004', 'A005'],\n",
    "                'Project': ['Project 1', 'Project 2', 'Project 3', 'Project 4', 'Project 5', 'Project 6', 'Project 7', 'Project 8', 'Project 9', 'Project 10', 'Project 11', 'Project 12', 'Project 13', 'Project 14'],\n",
    "                'Cost': [1002000, 2000000, 4500000, 5500000, np.nan, 680000, 400000, 350000, np.nan, 300000, 2000000, 1000000, 3000000, 200000],\n",
    "                'Status': ['Finished', 'Ongoing', 'Finished', 'Ongoing', 'Finished', 'Failed', 'Finished', 'Failed', 'Ongoing', 'Finished', 'Failed', 'Ongoing', 'Finished', 'Finished']}\n",
    "\n",
    "# Calling dataframe function and creating a dataframe using the dictionary project data, printing it for confirmation and converting it to .csv file                         \n",
    "project_df = pd.DataFrame(project_data)\n",
    "print(project_df)\n",
    "project_df.to_csv('project_data.csv', index=False)\n"
   ]
  },
  {
   "cell_type": "code",
   "execution_count": 2,
   "id": "72d31cb8-7b01-483a-9965-d0fdf546b029",
   "metadata": {},
   "outputs": [
    {
     "name": "stdout",
     "output_type": "stream",
     "text": [
      "     ID             Name Gender     City  Age\n",
      "0  A001       John Alter      M    Paris   25\n",
      "1  A002  Alice Luxumberg      F   London   27\n",
      "2  A003    Tom Sabestine      M   Berlin   29\n",
      "3  A004       Nina Adgra      F  Newyork   31\n",
      "4  A005        Amy Johny      F   Madrid   30\n"
     ]
    }
   ],
   "source": [
    "# Task 1\n",
    "# Creating Employee Dataframe and saving it as a .csv file.\n",
    "\n",
    "# Importing the pandas and numpy libraries\n",
    "import pandas as pd\n",
    "import numpy as np\n",
    "\n",
    "# Creating a dictionary structure named employee data with keys representing column names containing ID, Name, Gender, City and Age and values as lists.\n",
    "employee_data = {'ID': ['A001', 'A002', 'A003', 'A004', 'A005'],\n",
    "                 'Name': ['John Alter', 'Alice Luxumberg', 'Tom Sabestine', 'Nina Adgra', 'Amy Johny'],\n",
    "                 'Gender': ['M', 'F', 'M', 'F', 'F'],\n",
    "                 'City': ['Paris', 'London', 'Berlin', 'Newyork', 'Madrid'],\n",
    "                 'Age': [25,27,29,31,30]}\n",
    "\n",
    "# Calling dataframe function and creating a dataframe using the dictionary employee data, printing it for confirmation and converting it to .csv file  \n",
    "employee_df = pd.DataFrame(employee_data)\n",
    "print(employee_df)\n",
    "employee_df.to_csv('employee_data.csv', index=False)\n"
   ]
  },
  {
   "cell_type": "code",
   "execution_count": 3,
   "id": "a31de9a7-ac18-43ed-b9f3-876daa7cb2f9",
   "metadata": {},
   "outputs": [
    {
     "name": "stdout",
     "output_type": "stream",
     "text": [
      "     ID  Designation Level\n",
      "0  A001                  2\n",
      "1  A002                  2\n",
      "2  A003                  3\n",
      "3  A004                  2\n",
      "4  A005                  3\n"
     ]
    }
   ],
   "source": [
    "# Task 1\n",
    "# Creating Seniority Level Dataframe and saving it as .csv file.\n",
    "\n",
    "# Importing the pandas and numpy libraries\n",
    "import pandas as pd\n",
    "import numpy as np \n",
    "\n",
    "# Creating a dictionary structure named seniority level data with keys representing column names containing ID and Designation Level and values as lists.\n",
    "seniority_level_data = {'ID': ['A001', 'A002','A003', 'A004', 'A005'],\n",
    "                        'Designation Level': [2,2,3,2,3]}\n",
    "\n",
    "# Calling dataframe function and creating a dataframe using the seniority level data, printing it for confirmation and converting it to .csv file  \n",
    "seniority_level_df = pd.DataFrame(seniority_level_data)\n",
    "print(seniority_level_df)\n",
    "seniority_level_df.to_csv('seniority_level_data.csv', index=False)\n"
   ]
  },
  {
   "cell_type": "code",
   "execution_count": 33,
   "id": "5227f306-c300-4938-8f89-d3e03db958ab",
   "metadata": {},
   "outputs": [
    {
     "name": "stdout",
     "output_type": "stream",
     "text": [
      "      ID     Project       Cost    Status\n",
      "0   A001   Project 1  1002000.0  Finished\n",
      "1   A002   Project 2  2000000.0   Ongoing\n",
      "2   A003   Project 3  4500000.0  Finished\n",
      "3   A004   Project 4  5500000.0   Ongoing\n",
      "4   A005   Project 5  3250500.0  Finished\n",
      "5   A002   Project 6   680000.0    Failed\n",
      "6   A005   Project 7   400000.0  Finished\n",
      "7   A003   Project 8   350000.0    Failed\n",
      "8   A001   Project 9  2061714.3   Ongoing\n",
      "9   A003  Project 10   300000.0  Finished\n",
      "10  A001  Project 11  2000000.0    Failed\n",
      "11  A004  Project 12  1000000.0   Ongoing\n",
      "12  A004  Project 13  3000000.0  Finished\n",
      "13  A005  Project 14   200000.0  Finished\n"
     ]
    }
   ],
   "source": [
    "# Task 2\n",
    "# Replacing missing values in cost column by the running average using for loop.\n",
    "\n",
    "# Importing pandas and numpy libraries for handling data manipulation and handling null values.\n",
    "import pandas as pd\n",
    "import numpy as np\n",
    "\n",
    "# Reading the saved .csv file into a dataframe using pandas function.\n",
    "project_df = pd.read_csv('project_data.csv')\n",
    "\n",
    "# Initializing variables\n",
    "running_sum = 0\n",
    "count = 0\n",
    "\n",
    "# The loop iterates throw all rows in project_df.\n",
    "# If cost is missing, cost > 0, it calculates average cost using running_sum/count and assigns this value to the missing cost. The round function rounds it off to one decimal place.\n",
    "#  And in else if count == 0, it assigns 0 to the missing cost.\n",
    "# If cost is not missing, the valid cost from before is added to running sum and count is increased by 1.\n",
    "\n",
    "for i in range(len(project_df)): \n",
    "    if np.isnan(project_df.loc[i,'Cost']):\n",
    "        if count > 0:\n",
    "            project_df.loc[i,'Cost'] = round(running_sum / count, 1)\n",
    "        else:\n",
    "            project_df.loc[i,'Cost'] = 0\n",
    "    else:\n",
    "        running_sum += project_df.loc[i,'Cost']\n",
    "        count += 1\n",
    "\n",
    "# The updated data is printed using print function and saved as .csv file.\n",
    "print(project_df)\n",
    "project_df.to_csv('project_data.csv', index = False)\n",
    "\n"
   ]
  },
  {
   "cell_type": "code",
   "execution_count": 31,
   "id": "b89a7646-3433-4061-bb81-97eaf590789e",
   "metadata": {},
   "outputs": [
    {
     "name": "stdout",
     "output_type": "stream",
     "text": [
      "     ID Gender     City  Age First Name  Last Name\n",
      "0  A001      M    Paris   25       John      Alter\n",
      "1  A002      F   London   27      Alice  Luxumberg\n",
      "2  A003      M   Berlin   29        Tom  Sabestine\n",
      "3  A004      F  Newyork   31       Nina      Adgra\n",
      "4  A005      F   Madrid   30        Amy      Johny\n"
     ]
    }
   ],
   "source": [
    "# Task 3\n",
    "# Splitting the name column in employee data into first name and last name and removing the old name column.\n",
    "\n",
    "# Importing pandas library for data manipulation.\n",
    "import pandas as pd\n",
    "\n",
    "# Reading the saved employee_data.csv file into a dataframe using pandas\n",
    "employee_df = pd.read_csv('employee_data.csv')\n",
    "\n",
    "# Using the str.split function to separate name as firstname and lastname at the space separator and expand to new columns.\n",
    "employee_df[['First Name', 'Last Name']] = employee_df['Name'].str.split(' ', expand=True)\n",
    "\n",
    "# Removing the original name from the dataframe permanently.\n",
    "employee_df.drop(columns=['Name'], inplace=True)\n",
    "\n",
    "# The updated data is printed using print function and saved as .csv file.\n",
    "print(employee_df)\n",
    "employee_df.to_csv('employee_data.csv', index=False)\n",
    "\n",
    "\n"
   ]
  },
  {
   "cell_type": "code",
   "execution_count": 32,
   "id": "8944fa7d-f197-4f83-8e43-bb3ab745d7cf",
   "metadata": {},
   "outputs": [
    {
     "name": "stdout",
     "output_type": "stream",
     "text": [
      "      ID     Project       Cost    Status Gender     City  Age First Name  Last Name  Designation Level\n",
      "0   A001   Project 1  1002000.0  Finished      M    Paris   25       John      Alter                  2\n",
      "1   A002   Project 2  2000000.0   Ongoing      F   London   27      Alice  Luxumberg                  2\n",
      "2   A003   Project 3  4500000.0  Finished      M   Berlin   29        Tom  Sabestine                  3\n",
      "3   A004   Project 4  5500000.0   Ongoing      F  Newyork   31       Nina      Adgra                  2\n",
      "4   A005   Project 5  3250500.0  Finished      F   Madrid   30        Amy      Johny                  3\n",
      "5   A002   Project 6   680000.0    Failed      F   London   27      Alice  Luxumberg                  2\n",
      "6   A005   Project 7   400000.0  Finished      F   Madrid   30        Amy      Johny                  3\n",
      "7   A003   Project 8   350000.0    Failed      M   Berlin   29        Tom  Sabestine                  3\n",
      "8   A001   Project 9  2061714.3   Ongoing      M    Paris   25       John      Alter                  2\n",
      "9   A003  Project 10   300000.0  Finished      M   Berlin   29        Tom  Sabestine                  3\n",
      "10  A001  Project 11  2000000.0    Failed      M    Paris   25       John      Alter                  2\n",
      "11  A004  Project 12  1000000.0   Ongoing      F  Newyork   31       Nina      Adgra                  2\n",
      "12  A004  Project 13  3000000.0  Finished      F  Newyork   31       Nina      Adgra                  2\n",
      "13  A005  Project 14   200000.0  Finished      F   Madrid   30        Amy      Johny                  3\n"
     ]
    }
   ],
   "source": [
    "# Task 4\n",
    "# Joining all three dataframes and naming it as final.\n",
    "\n",
    "# Importing pandas library for data manipulation.\n",
    "import pandas as pd \n",
    "\n",
    "# Reading the saved employee_data.csv file, project_data.csv file and seniority_level_data.csv file using pandas.\n",
    "project_df = pd.read_csv('project_data.csv')\n",
    "\n",
    "employee_df = pd.read_csv('employee_data.csv')\n",
    "\n",
    "seniority_level_df = pd.read_csv('seniority_level_data.csv')\n",
    "\n",
    "# Merging project_df and employee_df based on a common column ID. And merging this merged_df with seniority_level_df on ID column. Naming this as final_df.\n",
    "merged_df = pd.merge(project_df, employee_df, on='ID')\n",
    "final_df = pd.merge(merged_df, seniority_level_df, on='ID')\n",
    "\n",
    "# Using pd.set_option to prevent wrapping and displaying width till 1000 characters.\n",
    "pd.set_option('display.width', 1000)\n",
    "\n",
    "# The updated data is printed using print function and saved as .csv file. \n",
    "print(final_df)\n",
    "final_df.to_csv('final_data.csv', index=False)\n",
    "\n",
    "\n",
    "\n"
   ]
  },
  {
   "cell_type": "code",
   "execution_count": 34,
   "id": "c5d481bb-4241-48a5-98fc-6f7dd0c2b2c0",
   "metadata": {},
   "outputs": [
    {
     "name": "stdout",
     "output_type": "stream",
     "text": [
      "      ID     Project       Cost    Status Gender     City  Age First Name  Last Name  Designation Level     Bonus\n",
      "0   A001   Project 1  1002000.0  Finished      M    Paris   25       John      Alter                  2   50100.0\n",
      "1   A002   Project 2  2000000.0   Ongoing      F   London   27      Alice  Luxumberg                  2       0.0\n",
      "2   A003   Project 3  4500000.0  Finished      M   Berlin   29        Tom  Sabestine                  3  225000.0\n",
      "3   A004   Project 4  5500000.0   Ongoing      F  Newyork   31       Nina      Adgra                  2       0.0\n",
      "4   A005   Project 5  3250500.0  Finished      F   Madrid   30        Amy      Johny                  3  162525.0\n",
      "5   A002   Project 6   680000.0    Failed      F   London   27      Alice  Luxumberg                  2       0.0\n",
      "6   A005   Project 7   400000.0  Finished      F   Madrid   30        Amy      Johny                  3   20000.0\n",
      "7   A003   Project 8   350000.0    Failed      M   Berlin   29        Tom  Sabestine                  3       0.0\n",
      "8   A001   Project 9  2061714.3   Ongoing      M    Paris   25       John      Alter                  2       0.0\n",
      "9   A003  Project 10   300000.0  Finished      M   Berlin   29        Tom  Sabestine                  3   15000.0\n",
      "10  A001  Project 11  2000000.0    Failed      M    Paris   25       John      Alter                  2       0.0\n",
      "11  A004  Project 12  1000000.0   Ongoing      F  Newyork   31       Nina      Adgra                  2       0.0\n",
      "12  A004  Project 13  3000000.0  Finished      F  Newyork   31       Nina      Adgra                  2  150000.0\n",
      "13  A005  Project 14   200000.0  Finished      F   Madrid   30        Amy      Johny                  3   10000.0\n"
     ]
    }
   ],
   "source": [
    "# Task 5\n",
    "# Adding a new bonus column in the final dataframe and giving 5% bonus to employees who have completed their project based on the cost of the project.\n",
    "\n",
    "# Importing pandas library for data manipulation.\n",
    "import pandas as pd\n",
    "\n",
    "# Reading the final.csv file in a dataframe using pandas.\n",
    "final_df = pd.read_csv('final_data.csv')\n",
    "\n",
    "# Adding the \"Bonus\" column in the final_df\n",
    "# Applying lambda function to check the status of project and assigning the bonus accordingly else assigning 0 row wise.\n",
    "\n",
    "final_df['Bonus'] = final_df.apply(lambda row: row['Cost'] * 0.05 if row['Status'] == 'Finished' else 0, axis=1)\n",
    "\n",
    "# Printing the final DataFrame with the Bonus column and saving the updates to final_data.csv file.\n",
    "print(final_df)\n",
    "final_df.to_csv('final_data.csv', index=False)\n"
   ]
  },
  {
   "cell_type": "code",
   "execution_count": 21,
   "id": "4343fb6e-7c2e-4779-b9ef-1731b128c1eb",
   "metadata": {},
   "outputs": [
    {
     "name": "stdout",
     "output_type": "stream",
     "text": [
      "      ID     Project       Cost    Status Gender     City  Age First Name  Last Name  Designation Level     Bonus\n",
      "0   A001   Project 1  1002000.0  Finished      M    Paris   25       John      Alter                  2   50100.0\n",
      "1   A002   Project 2  2000000.0   Ongoing      F   London   27      Alice  Luxumberg                  2       0.0\n",
      "2   A003   Project 3  4500000.0  Finished      M   Berlin   29        Tom  Sabestine                  3  225000.0\n",
      "3   A004   Project 4  5500000.0   Ongoing      F  Newyork   31       Nina      Adgra                  2       0.0\n",
      "4   A005   Project 5  3250500.0  Finished      F   Madrid   30        Amy      Johny                  3  162525.0\n",
      "5   A002   Project 6   680000.0    Failed      F   London   27      Alice  Luxumberg                  3       0.0\n",
      "6   A005   Project 7   400000.0  Finished      F   Madrid   30        Amy      Johny                  3   20000.0\n",
      "7   A003   Project 8   350000.0    Failed      M   Berlin   29        Tom  Sabestine                  4       0.0\n",
      "8   A001   Project 9  2061714.3   Ongoing      M    Paris   25       John      Alter                  2       0.0\n",
      "9   A003  Project 10   300000.0  Finished      M   Berlin   29        Tom  Sabestine                  3   15000.0\n",
      "10  A001  Project 11  2000000.0    Failed      M    Paris   25       John      Alter                  3       0.0\n",
      "11  A004  Project 12  1000000.0   Ongoing      F  Newyork   31       Nina      Adgra                  2       0.0\n",
      "12  A004  Project 13  3000000.0  Finished      F  Newyork   31       Nina      Adgra                  2  150000.0\n",
      "13  A005  Project 14   200000.0  Finished      F   Madrid   30        Amy      Johny                  3   10000.0\n"
     ]
    }
   ],
   "source": [
    "# Task 6\n",
    "# Demoting the designation by 1 level whose projects have failed and deleting employees whose designation level is above 4.\n",
    "\n",
    "# Importing pandas library for data manipulation.\n",
    "import pandas as pd\n",
    "\n",
    "# Reading the final .csv file in a dataframe using pandas.\n",
    "final_df = pd.read_csv('final_data.csv')\n",
    "\n",
    "# Using the .loc[] function, rows with status failed are selected and designation level is increased by 1 (as higher the number lower the designation).\n",
    "final_df.loc[final_df['Status'] == 'Failed', 'Designation Level'] += 1\n",
    "\n",
    "# Iterating over all rows, checking for designation level above 4 and dropping them permanently from the dataframe.\n",
    "for index, row in final_df.iterrows(): \n",
    "    if row['Designation Level'] > 4:\n",
    "        final_df.drop(index, inplace=True)\n",
    "\n",
    "# The updated data is printed using print function and saved as .csv file. \n",
    "print(final_df)\n",
    "final_df.to_csv('final_data.csv', index=False)\n"
   ]
  },
  {
   "cell_type": "code",
   "execution_count": 22,
   "id": "ec2b7b6f-d626-45be-8831-0e3b6aa8c41b",
   "metadata": {},
   "outputs": [
    {
     "name": "stdout",
     "output_type": "stream",
     "text": [
      "      ID     Project       Cost    Status     City  Age First Name  Last Name  Designation Level     Bonus\n",
      "0   A001   Project 1  1002000.0  Finished    Paris   25    Mr.John      Alter                  2   50100.0\n",
      "1   A002   Project 2  2000000.0   Ongoing   London   27  Mrs.Alice  Luxumberg                  2       0.0\n",
      "2   A003   Project 3  4500000.0  Finished   Berlin   29     Mr.Tom  Sabestine                  3  225000.0\n",
      "3   A004   Project 4  5500000.0   Ongoing  Newyork   31   Mrs.Nina      Adgra                  2       0.0\n",
      "4   A005   Project 5  3250500.0  Finished   Madrid   30    Mrs.Amy      Johny                  3  162525.0\n",
      "5   A002   Project 6   680000.0    Failed   London   27  Mrs.Alice  Luxumberg                  3       0.0\n",
      "6   A005   Project 7   400000.0  Finished   Madrid   30    Mrs.Amy      Johny                  3   20000.0\n",
      "7   A003   Project 8   350000.0    Failed   Berlin   29     Mr.Tom  Sabestine                  4       0.0\n",
      "8   A001   Project 9  2061714.3   Ongoing    Paris   25    Mr.John      Alter                  2       0.0\n",
      "9   A003  Project 10   300000.0  Finished   Berlin   29     Mr.Tom  Sabestine                  3   15000.0\n",
      "10  A001  Project 11  2000000.0    Failed    Paris   25    Mr.John      Alter                  3       0.0\n",
      "11  A004  Project 12  1000000.0   Ongoing  Newyork   31   Mrs.Nina      Adgra                  2       0.0\n",
      "12  A004  Project 13  3000000.0  Finished  Newyork   31   Mrs.Nina      Adgra                  2  150000.0\n",
      "13  A005  Project 14   200000.0  Finished   Madrid   30    Mrs.Amy      Johny                  3   10000.0\n"
     ]
    }
   ],
   "source": [
    "# Task 7\n",
    "# Adding Mr. and Mrs. to the first name and dropping the gender column.\n",
    "\n",
    "# Importing pandas library for data manipulation.\n",
    "import pandas as pd\n",
    "\n",
    "# Reading the .csv file into a dataframe using Pandas\n",
    "final_df = pd.read_csv('final_data.csv')\n",
    "\n",
    "# Adding the prefix \"Mr.\" or \"Mrs.\" to the First Name column based on the Gender column.\n",
    "# Using lambda function checking values across rows and adding Mr. for gender M else Mrs. And adding this prefix with the first name row wise.\n",
    "\n",
    "final_df['First Name'] = final_df.apply(lambda row: ('Mr.' if row['Gender'] == 'M' else 'Mrs.') + row['First Name'], axis=1)\n",
    "\n",
    "# Droping the Gender column permanently\n",
    "final_df.drop(columns=['Gender'], inplace=True)\n",
    "\n",
    "# Using pd.set_option to prevent wrapping and displaying width till 1000 characters.\n",
    "pd.set_option('display.width', 1000)\n",
    "\n",
    "# The updated data is printed using print function and saved as .csv file. \n",
    "print(final_df)\n",
    "final_df.to_csv('final_data.csv', index=False)\n",
    "\n"
   ]
  },
  {
   "cell_type": "code",
   "execution_count": 28,
   "id": "1ff2d665-5347-4664-9b7e-f58f3fec23e9",
   "metadata": {},
   "outputs": [
    {
     "name": "stdout",
     "output_type": "stream",
     "text": [
      "      ID     Project       Cost    Status     City  Age First Name  Last Name  Designation Level     Bonus\n",
      "0   A001   Project 1  1002000.0  Finished    Paris   25    Mr.John      Alter                  2   50100.0\n",
      "1   A002   Project 2  2000000.0   Ongoing   London   27  Mrs.Alice  Luxumberg                  2       0.0\n",
      "2   A003   Project 3  4500000.0  Finished   Berlin   29     Mr.Tom  Sabestine                  3  225000.0\n",
      "3   A004   Project 4  5500000.0   Ongoing  Newyork   31   Mrs.Nina      Adgra                  1       0.0\n",
      "4   A005   Project 5  3250500.0  Finished   Madrid   30    Mrs.Amy      Johny                  2  162525.0\n",
      "5   A002   Project 6   680000.0    Failed   London   27  Mrs.Alice  Luxumberg                  3       0.0\n",
      "6   A005   Project 7   400000.0  Finished   Madrid   30    Mrs.Amy      Johny                  2   20000.0\n",
      "7   A003   Project 8   350000.0    Failed   Berlin   29     Mr.Tom  Sabestine                  4       0.0\n",
      "8   A001   Project 9  2061714.3   Ongoing    Paris   25    Mr.John      Alter                  2       0.0\n",
      "9   A003  Project 10   300000.0  Finished   Berlin   29     Mr.Tom  Sabestine                  3   15000.0\n",
      "10  A001  Project 11  2000000.0    Failed    Paris   25    Mr.John      Alter                  3       0.0\n",
      "11  A004  Project 12  1000000.0   Ongoing  Newyork   31   Mrs.Nina      Adgra                  1       0.0\n",
      "12  A004  Project 13  3000000.0  Finished  Newyork   31   Mrs.Nina      Adgra                  1  150000.0\n",
      "13  A005  Project 14   200000.0  Finished   Madrid   30    Mrs.Amy      Johny                  2   10000.0\n"
     ]
    }
   ],
   "source": [
    "# Task 8\n",
    "# Promoting designation level by 1, whose age is more than 29 using if condition.\n",
    "\n",
    "# Importing pandas library for data manipulation.\n",
    "import pandas as pd\n",
    "\n",
    "# Reading the .csv file into final_df using pandas\n",
    "final_df = pd.read_csv('final_data.csv')\n",
    "\n",
    "# Defining function promote which takes one argument row and promoting the designation level by 1 for employees whose age is more than 29 years.\n",
    "# Row function checks if age column has a value above 29. If it is then designation level is decreased by 1. (As lower the number higher the designation)\n",
    "# Max function ensures designation level does not go below 1. If age is not above 29 it returns the original designation value.\n",
    "\n",
    "def promote(row):\n",
    "    if row['Age'] > 29:\n",
    "        return max(row['Designation Level'] -1, 1)\n",
    "    return row ['Designation Level']\n",
    "\n",
    "# Using pd.set_option to prevent wrapping and displaying width till 1000 characters.\n",
    "pd.set_option('display.width', 1000)\n",
    "\n",
    "# The updated data is printed using print function and saved as .csv file. \n",
    "print(final_df)\n",
    "final_df.to_csv('final_data.csv', index=False)\n"
   ]
  },
  {
   "cell_type": "code",
   "execution_count": 35,
   "id": "b5b24877-dd39-4143-9b99-ac6c2ed3f1c0",
   "metadata": {},
   "outputs": [
    {
     "name": "stdout",
     "output_type": "stream",
     "text": [
      "     ID First Name  Total Cost\n",
      "0  A001       John   5063714.3\n",
      "1  A002      Alice   2680000.0\n",
      "2  A003        Tom   5150000.0\n",
      "3  A004       Nina   9500000.0\n",
      "4  A005        Amy   3850500.0\n"
     ]
    }
   ],
   "source": [
    "# Task 9\n",
    "# Adding the cost of all projects for each employee and saving it in a new dataframe 'TotalProjCost' with three columns ID, First Name and Total Cost.\n",
    "\n",
    "# Importing pandas library for data manipulation.\n",
    "import pandas as pd\n",
    "\n",
    "# Reading the .csv file into final_df using pandas\n",
    "final_df = pd.read_csv('final_data.csv')\n",
    "\n",
    "# Grouping by ID and First Name to group according to each employee and calculating the sum of cost column for each group and reset the index. \n",
    "total_proj_cost_df = final_df.groupby(['ID', 'First Name'])['Cost'].sum().reset_index()\n",
    "\n",
    "# Renaming the columns to match the required format\n",
    "total_proj_cost_df.columns = ['ID', 'First Name', 'Total Cost']\n",
    "\n",
    "# Printing the new dataframe to verify\n",
    "print(total_proj_cost_df)\n",
    "\n",
    "\n",
    "\n"
   ]
  },
  {
   "cell_type": "code",
   "execution_count": 27,
   "id": "a44eddca-25d7-4a0b-b522-ffa6e87934fc",
   "metadata": {},
   "outputs": [
    {
     "name": "stdout",
     "output_type": "stream",
     "text": [
      "      ID     Project       Cost    Status     City  Age First Name  Last Name  Designation Level     Bonus\n",
      "1   A002   Project 2  2000000.0   Ongoing   London   27  Mrs.Alice  Luxumberg                  2       0.0\n",
      "3   A004   Project 4  5500000.0   Ongoing  Newyork   31   Mrs.Nina      Adgra                  1       0.0\n",
      "5   A002   Project 6   680000.0    Failed   London   27  Mrs.Alice  Luxumberg                  3       0.0\n",
      "11  A004  Project 12  1000000.0   Ongoing  Newyork   31   Mrs.Nina      Adgra                  1       0.0\n",
      "12  A004  Project 13  3000000.0  Finished  Newyork   31   Mrs.Nina      Adgra                  1  150000.0\n"
     ]
    }
   ],
   "source": [
    "# Task 10\n",
    "# Printing all the employees details whose city name contains 'o'.\n",
    "\n",
    "# Importing pandas library for data manipulation.\n",
    "import pandas as pd \n",
    "\n",
    "# Reading the .csv file into final_df using pandas\n",
    "final_df = pd.read_csv('final_data.csv')\n",
    "\n",
    "# Filtering the cities containing o making it case insensitive to gain access to all o values in city name and storing in the filtered_df. \n",
    "filtered_df = final_df[final_df['City'].str.contains('o', case=False)]\n",
    "\n",
    "# Using pd.set_option to prevent wrapping and displaying width till 1000 characters.\n",
    "pd.set_option('display.width', 1000)\n",
    "\n",
    "# Printing the filtered dataframe for verification.\n",
    "print(filtered_df)"
   ]
  }
 ],
 "metadata": {
  "kernelspec": {
   "display_name": "Python 3 (ipykernel)",
   "language": "python",
   "name": "python3"
  },
  "language_info": {
   "codemirror_mode": {
    "name": "ipython",
    "version": 3
   },
   "file_extension": ".py",
   "mimetype": "text/x-python",
   "name": "python",
   "nbconvert_exporter": "python",
   "pygments_lexer": "ipython3",
   "version": "3.12.4"
  }
 },
 "nbformat": 4,
 "nbformat_minor": 5
}
